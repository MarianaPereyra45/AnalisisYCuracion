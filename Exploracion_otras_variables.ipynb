{
  "nbformat": 4,
  "nbformat_minor": 0,
  "metadata": {
    "colab": {
      "name": "Exploracion_otras_variables.ipynb",
      "provenance": [],
      "include_colab_link": true
    },
    "kernelspec": {
      "name": "python3",
      "display_name": "Python 3"
    },
    "language_info": {
      "name": "python"
    }
  },
  "cells": [
    {
      "cell_type": "markdown",
      "metadata": {
        "id": "view-in-github",
        "colab_type": "text"
      },
      "source": [
        "<a href=\"https://colab.research.google.com/github/MarianaPereyra45/AnalisisYCuracion/blob/master/Exploracion_otras_variables.ipynb\" target=\"_parent\"><img src=\"https://colab.research.google.com/assets/colab-badge.svg\" alt=\"Open In Colab\"/></a>"
      ]
    },
    {
      "cell_type": "markdown",
      "source": [
        "**La presente Notebook tiene como objetivo explorar otras variables del DataSet suministrado (En el informe escrito se corresponde con la sección: Exploración de otras variables)**"
      ],
      "metadata": {
        "id": "_cvxqo75j5kL"
      }
    },
    {
      "cell_type": "code",
      "execution_count": null,
      "metadata": {
        "id": "baHk8Vr2h8Zv"
      },
      "outputs": [],
      "source": [
        "import matplotlib.pyplot as plt\n",
        "import numpy\n",
        "import pandas as pd\n",
        "\n",
        "import seaborn\n",
        "seaborn.set_context('talk')"
      ]
    },
    {
      "cell_type": "code",
      "source": [
        "df_survey = pd.read_csv(\n",
        "    'https://raw.githubusercontent.com/flowrd-21/diplo_m15/main/encuesta_curso_ia.csv')\n",
        "df_survey[:3]"
      ],
      "metadata": {
        "colab": {
          "base_uri": "https://localhost:8080/",
          "height": 532
        },
        "id": "_86_xfUkiMVh",
        "outputId": "5e60e202-3102-4bc1-82a4-f042b41f1008"
      },
      "execution_count": null,
      "outputs": [
        {
          "output_type": "execute_result",
          "data": {
            "text/plain": [
              "      ID ¿En qué país vivís?      ¿Provincia?    ¿Ciudad?  \\\n",
              "0  A0001            Colombia  Valle del Cauca     Palmira   \n",
              "1  A0002           Argentina          Córdoba     Córdoba   \n",
              "2  A0003           Argentina       Corrientes  Santo Tomé   \n",
              "\n",
              "  ¿En qué sector trabajas? Especifica el área en la que te desempeñas  \\\n",
              "0           Sector Privado                    Tecnología e Innovación   \n",
              "1           Sector Privado                                      Otras   \n",
              "2               No trabajo                                        NaN   \n",
              "\n",
              "  ¿Cuál es tu profesión?      ¿Dónde trabajas actualmente? ¿Qué cargo ocupas?  \\\n",
              "0          Diseñador Web                        Diseño Web      Diseñador web   \n",
              "1                Abogado  Estudio jurídico - Profesor UCES            Abogado   \n",
              "2                    NaN                               NaN                NaN   \n",
              "\n",
              "  ¿Ejerces otro tipo de actividad? Por ejemplo, investigación en Centros o Laboratorios, ayudantía en universidad, docencia, colaboración en instituciones...  \\\n",
              "0                                                 No                                                                                                            \n",
              "1  Miembro equipo de investigacion CIJS de la Fac...                                                                                                            \n",
              "2                                                NaN                                                                                                            \n",
              "\n",
              "   ... Modulo React Basico TERMINADO Modulo React Avanzado TERMINADO  \\\n",
              "0  ...                             0                               0   \n",
              "1  ...                             0                               0   \n",
              "2  ...                             0                               0   \n",
              "\n",
              "   Modulo Node Js TERMINADO Modulo Javascript TERMINADO  \\\n",
              "0                         0                           0   \n",
              "1                         0                           0   \n",
              "2                         0                           0   \n",
              "\n",
              "  Modulo Challenge Backend TERMINADO Modulo Node Js CURSANDO  \\\n",
              "0                                  0                       0   \n",
              "1                                  0                       0   \n",
              "2                                  0                       0   \n",
              "\n",
              "  Modulo React Avanzado CURSANDO Modulo Diseño y Despliegue de IA CURSANDO  \\\n",
              "0                       CURSANDO                                         0   \n",
              "1                       CURSANDO                                         0   \n",
              "2                       CURSANDO                                         0   \n",
              "\n",
              "  Modulo Gobernanza de datos CURSANDO Modulo Gobernanza de IA CURSANDO  \n",
              "0                                   0                                0  \n",
              "1                                   0                                0  \n",
              "2                                   0                                0  \n",
              "\n",
              "[3 rows x 80 columns]"
            ],
            "text/html": [
              "\n",
              "  <div id=\"df-b7ee19f7-3334-4da8-bec8-8e4f4ddcaa76\">\n",
              "    <div class=\"colab-df-container\">\n",
              "      <div>\n",
              "<style scoped>\n",
              "    .dataframe tbody tr th:only-of-type {\n",
              "        vertical-align: middle;\n",
              "    }\n",
              "\n",
              "    .dataframe tbody tr th {\n",
              "        vertical-align: top;\n",
              "    }\n",
              "\n",
              "    .dataframe thead th {\n",
              "        text-align: right;\n",
              "    }\n",
              "</style>\n",
              "<table border=\"1\" class=\"dataframe\">\n",
              "  <thead>\n",
              "    <tr style=\"text-align: right;\">\n",
              "      <th></th>\n",
              "      <th>ID</th>\n",
              "      <th>¿En qué país vivís?</th>\n",
              "      <th>¿Provincia?</th>\n",
              "      <th>¿Ciudad?</th>\n",
              "      <th>¿En qué sector trabajas?</th>\n",
              "      <th>Especifica el área en la que te desempeñas</th>\n",
              "      <th>¿Cuál es tu profesión?</th>\n",
              "      <th>¿Dónde trabajas actualmente?</th>\n",
              "      <th>¿Qué cargo ocupas?</th>\n",
              "      <th>¿Ejerces otro tipo de actividad? Por ejemplo, investigación en Centros o Laboratorios, ayudantía en universidad, docencia, colaboración en instituciones...</th>\n",
              "      <th>...</th>\n",
              "      <th>Modulo React Basico TERMINADO</th>\n",
              "      <th>Modulo React Avanzado TERMINADO</th>\n",
              "      <th>Modulo Node Js TERMINADO</th>\n",
              "      <th>Modulo Javascript TERMINADO</th>\n",
              "      <th>Modulo Challenge Backend TERMINADO</th>\n",
              "      <th>Modulo Node Js CURSANDO</th>\n",
              "      <th>Modulo React Avanzado CURSANDO</th>\n",
              "      <th>Modulo Diseño y Despliegue de IA CURSANDO</th>\n",
              "      <th>Modulo Gobernanza de datos CURSANDO</th>\n",
              "      <th>Modulo Gobernanza de IA CURSANDO</th>\n",
              "    </tr>\n",
              "  </thead>\n",
              "  <tbody>\n",
              "    <tr>\n",
              "      <th>0</th>\n",
              "      <td>A0001</td>\n",
              "      <td>Colombia</td>\n",
              "      <td>Valle del Cauca</td>\n",
              "      <td>Palmira</td>\n",
              "      <td>Sector Privado</td>\n",
              "      <td>Tecnología e Innovación</td>\n",
              "      <td>Diseñador Web</td>\n",
              "      <td>Diseño Web</td>\n",
              "      <td>Diseñador web</td>\n",
              "      <td>No</td>\n",
              "      <td>...</td>\n",
              "      <td>0</td>\n",
              "      <td>0</td>\n",
              "      <td>0</td>\n",
              "      <td>0</td>\n",
              "      <td>0</td>\n",
              "      <td>0</td>\n",
              "      <td>CURSANDO</td>\n",
              "      <td>0</td>\n",
              "      <td>0</td>\n",
              "      <td>0</td>\n",
              "    </tr>\n",
              "    <tr>\n",
              "      <th>1</th>\n",
              "      <td>A0002</td>\n",
              "      <td>Argentina</td>\n",
              "      <td>Córdoba</td>\n",
              "      <td>Córdoba</td>\n",
              "      <td>Sector Privado</td>\n",
              "      <td>Otras</td>\n",
              "      <td>Abogado</td>\n",
              "      <td>Estudio jurídico - Profesor UCES</td>\n",
              "      <td>Abogado</td>\n",
              "      <td>Miembro equipo de investigacion CIJS de la Fac...</td>\n",
              "      <td>...</td>\n",
              "      <td>0</td>\n",
              "      <td>0</td>\n",
              "      <td>0</td>\n",
              "      <td>0</td>\n",
              "      <td>0</td>\n",
              "      <td>0</td>\n",
              "      <td>CURSANDO</td>\n",
              "      <td>0</td>\n",
              "      <td>0</td>\n",
              "      <td>0</td>\n",
              "    </tr>\n",
              "    <tr>\n",
              "      <th>2</th>\n",
              "      <td>A0003</td>\n",
              "      <td>Argentina</td>\n",
              "      <td>Corrientes</td>\n",
              "      <td>Santo Tomé</td>\n",
              "      <td>No trabajo</td>\n",
              "      <td>NaN</td>\n",
              "      <td>NaN</td>\n",
              "      <td>NaN</td>\n",
              "      <td>NaN</td>\n",
              "      <td>NaN</td>\n",
              "      <td>...</td>\n",
              "      <td>0</td>\n",
              "      <td>0</td>\n",
              "      <td>0</td>\n",
              "      <td>0</td>\n",
              "      <td>0</td>\n",
              "      <td>0</td>\n",
              "      <td>CURSANDO</td>\n",
              "      <td>0</td>\n",
              "      <td>0</td>\n",
              "      <td>0</td>\n",
              "    </tr>\n",
              "  </tbody>\n",
              "</table>\n",
              "<p>3 rows × 80 columns</p>\n",
              "</div>\n",
              "      <button class=\"colab-df-convert\" onclick=\"convertToInteractive('df-b7ee19f7-3334-4da8-bec8-8e4f4ddcaa76')\"\n",
              "              title=\"Convert this dataframe to an interactive table.\"\n",
              "              style=\"display:none;\">\n",
              "        \n",
              "  <svg xmlns=\"http://www.w3.org/2000/svg\" height=\"24px\"viewBox=\"0 0 24 24\"\n",
              "       width=\"24px\">\n",
              "    <path d=\"M0 0h24v24H0V0z\" fill=\"none\"/>\n",
              "    <path d=\"M18.56 5.44l.94 2.06.94-2.06 2.06-.94-2.06-.94-.94-2.06-.94 2.06-2.06.94zm-11 1L8.5 8.5l.94-2.06 2.06-.94-2.06-.94L8.5 2.5l-.94 2.06-2.06.94zm10 10l.94 2.06.94-2.06 2.06-.94-2.06-.94-.94-2.06-.94 2.06-2.06.94z\"/><path d=\"M17.41 7.96l-1.37-1.37c-.4-.4-.92-.59-1.43-.59-.52 0-1.04.2-1.43.59L10.3 9.45l-7.72 7.72c-.78.78-.78 2.05 0 2.83L4 21.41c.39.39.9.59 1.41.59.51 0 1.02-.2 1.41-.59l7.78-7.78 2.81-2.81c.8-.78.8-2.07 0-2.86zM5.41 20L4 18.59l7.72-7.72 1.47 1.35L5.41 20z\"/>\n",
              "  </svg>\n",
              "      </button>\n",
              "      \n",
              "  <style>\n",
              "    .colab-df-container {\n",
              "      display:flex;\n",
              "      flex-wrap:wrap;\n",
              "      gap: 12px;\n",
              "    }\n",
              "\n",
              "    .colab-df-convert {\n",
              "      background-color: #E8F0FE;\n",
              "      border: none;\n",
              "      border-radius: 50%;\n",
              "      cursor: pointer;\n",
              "      display: none;\n",
              "      fill: #1967D2;\n",
              "      height: 32px;\n",
              "      padding: 0 0 0 0;\n",
              "      width: 32px;\n",
              "    }\n",
              "\n",
              "    .colab-df-convert:hover {\n",
              "      background-color: #E2EBFA;\n",
              "      box-shadow: 0px 1px 2px rgba(60, 64, 67, 0.3), 0px 1px 3px 1px rgba(60, 64, 67, 0.15);\n",
              "      fill: #174EA6;\n",
              "    }\n",
              "\n",
              "    [theme=dark] .colab-df-convert {\n",
              "      background-color: #3B4455;\n",
              "      fill: #D2E3FC;\n",
              "    }\n",
              "\n",
              "    [theme=dark] .colab-df-convert:hover {\n",
              "      background-color: #434B5C;\n",
              "      box-shadow: 0px 1px 3px 1px rgba(0, 0, 0, 0.15);\n",
              "      filter: drop-shadow(0px 1px 2px rgba(0, 0, 0, 0.3));\n",
              "      fill: #FFFFFF;\n",
              "    }\n",
              "  </style>\n",
              "\n",
              "      <script>\n",
              "        const buttonEl =\n",
              "          document.querySelector('#df-b7ee19f7-3334-4da8-bec8-8e4f4ddcaa76 button.colab-df-convert');\n",
              "        buttonEl.style.display =\n",
              "          google.colab.kernel.accessAllowed ? 'block' : 'none';\n",
              "\n",
              "        async function convertToInteractive(key) {\n",
              "          const element = document.querySelector('#df-b7ee19f7-3334-4da8-bec8-8e4f4ddcaa76');\n",
              "          const dataTable =\n",
              "            await google.colab.kernel.invokeFunction('convertToInteractive',\n",
              "                                                     [key], {});\n",
              "          if (!dataTable) return;\n",
              "\n",
              "          const docLinkHtml = 'Like what you see? Visit the ' +\n",
              "            '<a target=\"_blank\" href=https://colab.research.google.com/notebooks/data_table.ipynb>data table notebook</a>'\n",
              "            + ' to learn more about interactive tables.';\n",
              "          element.innerHTML = '';\n",
              "          dataTable['output_type'] = 'display_data';\n",
              "          await google.colab.output.renderOutput(dataTable, element);\n",
              "          const docLink = document.createElement('div');\n",
              "          docLink.innerHTML = docLinkHtml;\n",
              "          element.appendChild(docLink);\n",
              "        }\n",
              "      </script>\n",
              "    </div>\n",
              "  </div>\n",
              "  "
            ]
          },
          "metadata": {},
          "execution_count": 2
        }
      ]
    },
    {
      "cell_type": "markdown",
      "source": [
        "**Variable relacionada a como llegaron las personas a inscribirse en el  programa:**"
      ],
      "metadata": {
        "id": "_7Doicw2kTrU"
      }
    },
    {
      "cell_type": "code",
      "source": [
        "df_survey1 = df_survey.rename(columns={\"¿Te recomendó alguna persona o institución?\": \"recomendado\"\n",
        "                                      })\n",
        "recomendado=df_survey1[\"recomendado\"].value_counts()\n",
        "print(\"recomendado\\n\", recomendado)"
      ],
      "metadata": {
        "colab": {
          "base_uri": "https://localhost:8080/"
        },
        "id": "OvYkMMzPiQO-",
        "outputId": "425b15ce-e65a-481d-dbf6-f39535a9747f"
      },
      "execution_count": null,
      "outputs": [
        {
          "output_type": "stream",
          "name": "stdout",
          "text": [
            "recomendado\n",
            " NO    4010\n",
            "SI    3417\n",
            "Name: recomendado, dtype: int64\n"
          ]
        }
      ]
    },
    {
      "cell_type": "code",
      "source": [
        "### Gráfico para visualizar si las personas llegaron a la formación por recomendación de algún tipo\n",
        " \n",
        "# Data\n",
        "names = 'NO-54%', 'SI-46%',\n",
        "size = [1593,1457]\n",
        " \n",
        "# create a figure and set different background\n",
        "fig = plt.figure()\n",
        "fig.patch.set_facecolor('black')\n",
        " \n",
        "# Change color of text\n",
        "plt.rcParams['text.color'] = 'white'\n",
        " \n",
        "# Create a circle at the center of the plot\n",
        "my_circle=plt.Circle( (0,0), 0.7, color='black')\n",
        " \n",
        "# Pieplot + circle on it\n",
        "plt.pie(size, labels=names)\n",
        "p=plt.gcf()\n",
        "p.gca().add_artist(my_circle)\n",
        "plt.show()"
      ],
      "metadata": {
        "colab": {
          "base_uri": "https://localhost:8080/",
          "height": 248
        },
        "id": "XwYpH48UiYbC",
        "outputId": "d9613508-1450-40cd-a866-3b993dd8e057"
      },
      "execution_count": null,
      "outputs": [
        {
          "output_type": "display_data",
          "data": {
            "text/plain": [
              "<Figure size 432x288 with 1 Axes>"
            ],
            "image/png": "[encoded data removed]"
          },
          "metadata": {}
        }
      ]
    },
    {
      "cell_type": "markdown",
      "source": [
        "**Variables relacionadas al conocimiento en programación de las personas, su nivel de conocimiento y los años que hace que programan:**"
      ],
      "metadata": {
        "id": "ESf85vEVkrka"
      }
    },
    {
      "cell_type": "code",
      "source": [
        "df_survey2 = df_survey.rename(columns={\"¿Sabes programar?\": \"sabe_programar\"\n",
        "                                      })\n",
        "sabe_programar=df_survey2[\"sabe_programar\"].value_counts()\n",
        "print(\"sabe_programar\\n\", sabe_programar)"
      ],
      "metadata": {
        "colab": {
          "base_uri": "https://localhost:8080/"
        },
        "id": "8oU9nk7OicEj",
        "outputId": "d779a7f6-be58-426e-b21b-98cf942d54a7"
      },
      "execution_count": null,
      "outputs": [
        {
          "output_type": "stream",
          "name": "stdout",
          "text": [
            "sabe_programar\n",
            " 0    4180\n",
            "1    3247\n",
            "Name: sabe_programar, dtype: int64\n"
          ]
        }
      ]
    },
    {
      "cell_type": "code",
      "source": [
        "### Gráfico para visualizar si las personas saben o no programar\n",
        "# create data\n",
        "names = ['Sabe programar: 56%', 'No Sabe programar: 44%']\n",
        "size = [4180,3247]\n",
        " \n",
        "# Create a circle at the center of the plot\n",
        "my_circle = plt.Circle( (0,0), 0.7, color='white')\n",
        "\n",
        "# Give color names\n",
        "plt.pie(size, labels=names, colors=['red','green'])\n",
        "p = plt.gcf()\n",
        "p.gca().add_artist(my_circle)\n",
        "\n",
        "# Show the graph\n",
        "plt.show()"
      ],
      "metadata": {
        "colab": {
          "base_uri": "https://localhost:8080/",
          "height": 248
        },
        "id": "edk0lw38ifQC",
        "outputId": "b60d0ff3-1c0c-4a1f-c7c5-7e3687c01f83"
      },
      "execution_count": null,
      "outputs": [
        {
          "output_type": "display_data",
          "data": {
            "text/plain": [
              "<Figure size 432x288 with 1 Axes>"
            ],
            "image/png": "[encoded data removed]"
          },
          "metadata": {}
        }
      ]
    },
    {
      "cell_type": "code",
      "source": [
        "df_survey3 = df_survey.rename(columns={\"¿Cuál es el nivel de conocimiento que tenes sobre el/los lenguajes?\": \"nivel\"\n",
        "                                      })\n",
        "nivel=df_survey3[\"nivel\"].value_counts()\n",
        "print(\"nivel\\n\", nivel)"
      ],
      "metadata": {
        "colab": {
          "base_uri": "https://localhost:8080/"
        },
        "id": "vF13365zijt4",
        "outputId": "0b24d4b6-4c56-4f1b-decd-eb2870d848d9"
      },
      "execution_count": null,
      "outputs": [
        {
          "output_type": "stream",
          "name": "stdout",
          "text": [
            "nivel\n",
            " Nivel de conocimiento intermedio    1873\n",
            "Nivel de conocimiento bajo          1436\n",
            "Nivel de conocimiento alto           422\n",
            "Name: nivel, dtype: int64\n"
          ]
        }
      ]
    },
    {
      "cell_type": "code",
      "source": [
        "### Gráfico que me permite visualizar el nivel de conocimientos en programación de las personas\n",
        " \n",
        "# create data\n",
        "names = ['Alto: 11%', 'Intermedio: 39%','Bajo: 50%']\n",
        "size = [422,1436,1873]\n",
        " \n",
        "# Create a circle at the center of the plot\n",
        "my_circle = plt.Circle( (0,0), 0.7, color='white')\n",
        "\n",
        "# Give color names\n",
        "plt.pie(size, labels=names, colors=['salmon','crimson','orangered'])\n",
        "p = plt.gcf()\n",
        "p.gca().add_artist(my_circle)\n",
        "\n",
        "# Show the graph\n",
        "plt.show()"
      ],
      "metadata": {
        "colab": {
          "base_uri": "https://localhost:8080/",
          "height": 248
        },
        "id": "Ru-sz7-9ikku",
        "outputId": "13105de3-d7fc-44d2-ffc0-518709318f64"
      },
      "execution_count": null,
      "outputs": [
        {
          "output_type": "display_data",
          "data": {
            "text/plain": [
              "<Figure size 432x288 with 1 Axes>"
            ],
            "image/png": "[encoded data removed]"
          },
          "metadata": {}
        }
      ]
    },
    {
      "cell_type": "code",
      "source": [
        "df_survey4 = df_survey.rename(columns={\"¿Hace cuánto programas?\": \"tiempo_programacion\"\n",
        "                                      })\n",
        "tiempo_programacion=df_survey4[\"tiempo_programacion\"].value_counts()\n",
        "print(\"tiempo_programacion\\n\", tiempo_programacion)"
      ],
      "metadata": {
        "colab": {
          "base_uri": "https://localhost:8080/"
        },
        "id": "dwE0MotQipZg",
        "outputId": "199ade72-8873-4e44-c2e8-68cbd9c90460"
      },
      "execution_count": null,
      "outputs": [
        {
          "output_type": "stream",
          "name": "stdout",
          "text": [
            "tiempo_programacion\n",
            " Menos de 1 año    402\n",
            "1 a 3 años        263\n",
            "'+10 años          88\n",
            "3 a 5 años         83\n",
            "'+5 años           50\n",
            "Name: tiempo_programacion, dtype: int64\n"
          ]
        }
      ]
    },
    {
      "cell_type": "code",
      "source": [
        "###Gráfico que explora hace cuanto tiempo las personas programan\n",
        "fig = plt.figure(figsize=(12,6))\n",
        "seaborn.countplot(\n",
        "    df_survey4.tiempo_programacion,  \n",
        "    ).set(\n",
        "        xlabel='Tiempo de programación',\n",
        "        ylabel='Observaciones',\n",
        "        title='¿Hace cuánto programas?')\n",
        "plt.xticks(rotation=90)"
      ],
      "metadata": {
        "colab": {
          "base_uri": "https://localhost:8080/",
          "height": 615
        },
        "id": "eexqQrXrixPo",
        "outputId": "629c0b4c-b3f7-4af5-b1aa-43bc1d538e7e"
      },
      "execution_count": null,
      "outputs": [
        {
          "output_type": "stream",
          "name": "stderr",
          "text": [
            "/usr/local/lib/python3.7/dist-packages/seaborn/_decorators.py:43: FutureWarning: Pass the following variable as a keyword arg: x. From version 0.12, the only valid positional argument will be `data`, and passing other arguments without an explicit keyword will result in an error or misinterpretation.\n",
            "  FutureWarning\n"
          ]
        },
        {
          "output_type": "execute_result",
          "data": {
            "text/plain": [
              "(array([0, 1, 2, 3, 4]), <a list of 5 Text major ticklabel objects>)"
            ]
          },
          "metadata": {},
          "execution_count": 10
        },
        {
          "output_type": "display_data",
          "data": {
            "text/plain": [
              "<Figure size 864x432 with 1 Axes>"
            ],
            "image/png": "[encoded data removed]"
          },
          "metadata": {
            "needs_background": "light"
          }
        }
      ]
    }
  ]
}